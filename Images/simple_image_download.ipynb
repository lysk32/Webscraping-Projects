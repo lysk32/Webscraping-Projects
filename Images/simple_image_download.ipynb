{
 "cells": [
  {
   "cell_type": "markdown",
   "metadata": {},
   "source": [
    "# Google Image Scraper\n",
    "\n",
    "Hello everyone,\n",
    "\n",
    "This Jupyter notebook provides a step-by-step guide on how to download images from Google using a Python script. The notebook leverages the `simple_image_download` library (yes, a creative name) to handle the task of fetching and downloading images or obtaining their URLs. Additionally, `matplotlib` is used to display the images.\n",
    "\n",
    "This script is adapted from Abhay Parashar's amazing article: \"17 Mindblowing Python Automation Scripts I Use Everyday.\"\n",
    "\n"
   ]
  },
  {
   "cell_type": "markdown",
   "metadata": {},
   "source": [
    "Recommendations:\n",
    "  - `simple-image-download 0.5` (Library for downloading images from google)\n",
    "  -  `Python 3.10` (click on top right corner to change version)\n",
    "  - `matplotlib 3.4.3` (Library for plotting graphs, but in this case it is used to display images)\n",
    "  - `pillow` (Library for processing images, in this case: url --> image object --> plot using matplotlib)\n"
   ]
  },
  {
   "cell_type": "markdown",
   "metadata": {},
   "source": [
    "# Download the dependencies required for this Jupyter Notebook\n",
    "\n",
    "These commands will install the necessary packages `simple-image-download` and `matplotlib` that are used in the notebook."
   ]
  },
  {
   "cell_type": "code",
   "execution_count": null,
   "metadata": {},
   "outputs": [],
   "source": [
    "%pip install simple-image-download\n",
    "%pip install matplotlib"
   ]
  },
  {
   "cell_type": "code",
   "execution_count": null,
   "metadata": {},
   "outputs": [],
   "source": [
    "# Words or phrases you google images of:\n",
    "keywords = ['cat', 'dog', 'bird', 'snake']\n",
    "\n",
    "# Number of images to download for each keyword:\n",
    "num_images = [ 10, 5, 3, 2]\n",
    "\n",
    "# Notes: keywords and num_images must be alligned by index and consequently have the same length."
   ]
  },
  {
   "cell_type": "code",
   "execution_count": null,
   "metadata": {},
   "outputs": [],
   "source": [
    "# Importing the libraries\n",
    "from simple_image_download import simple_image_download as simp \n",
    "\n",
    "# Creating a response object\n",
    "response = simp.simple_image_download\n",
    "\n",
    "image_urls = {}\n",
    "\n",
    "for word, num in zip(keywords, num_images):\n",
    "    try:\n",
    "        urls = response().urls(word, num+1) # first image is always the gstatic image\n",
    "        image_urls[word] = urls[1:]\n",
    "        print(f\"URLs for {word}:\")\n",
    "        for url in urls[1:]:\n",
    "            i = urls.index(url)\n",
    "            print(f\"\\t image{i}:\\t {url}\")\n",
    "\n",
    "    ## To download localy the images uncomment the following line\n",
    "    # response().download(word, num)\n",
    "\n",
    "    except Exception as e:\n",
    "        print(\"An error occurred:\", e)"
   ]
  },
  {
   "cell_type": "code",
   "execution_count": null,
   "metadata": {},
   "outputs": [],
   "source": [
    "from PIL import Image, UnidentifiedImageError\n",
    "import requests\n",
    "from io import BytesIO\n",
    "import math\n",
    "import matplotlib.pyplot as plt\n",
    "import textwrap\n",
    "\n",
    "def create_image_array(num):\n",
    "    return math.ceil(num / 3)\n",
    "\n",
    "def resize_image(image, target_size=(300, 300)):\n",
    "    return image.resize(target_size, Image.LANCZOS)\n",
    "\n",
    "def display_images(image_urls, word):\n",
    "    num_images = len(image_urls)\n",
    "    num_rows = create_image_array(num_images)\n",
    "\n",
    "    fig = plt.figure(figsize=(15, 5 * num_rows))\n",
    "    plt.suptitle(f\"Images of {word}\", fontsize=16, y=0.95)\n",
    "\n",
    "    for index, url in enumerate(image_urls, start=1):\n",
    "        ax = fig.add_subplot(num_rows, 3, index)\n",
    "        ax.set_xlim(0, 1)\n",
    "        ax.set_ylim(0, 1)\n",
    "        ax.axis('off')\n",
    "        \n",
    "        try:\n",
    "            response = requests.get(url)\n",
    "            response.raise_for_status()\n",
    "            image = Image.open(BytesIO(response.content))\n",
    "            \n",
    "            # Resize the image\n",
    "            resized_image = resize_image(image)\n",
    "\n",
    "            # Plotting the image\n",
    "            ax.imshow(resized_image, extent=[0, 1, 0, 1])\n",
    "        except UnidentifiedImageError:\n",
    "            error_message = \"Error: Unable to identify image\"\n",
    "            wrapped_text = textwrap.fill(error_message, width=20)\n",
    "            ax.text(0.5, 0.5, wrapped_text, ha='center', va='center', wrap=True, color='red')\n",
    "        except requests.RequestException as e:\n",
    "            error_message = f\"Error fetching image: {str(e)}\"\n",
    "            wrapped_text = textwrap.fill(error_message, width=20)\n",
    "            ax.text(0.5, 0.5, wrapped_text, ha='center', va='center', wrap=True, color='red')\n",
    "        except Exception as e:\n",
    "            error_message = f\"Unexpected error: {str(e)}\"\n",
    "            wrapped_text = textwrap.fill(error_message, width=20)\n",
    "            ax.text(0.5, 0.5, wrapped_text, ha='center', va='center', wrap=True, color='red')\n",
    "        \n",
    "        ax.set_title(f\"Image {index}\")\n",
    "\n",
    "    plt.tight_layout()\n",
    "    plt.subplots_adjust(top=0.9, hspace=0.5)  # Adjusted top margin and increased vertical space between subplots\n",
    "    plt.show()\n",
    "\n",
    "\n",
    "for word, urls in image_urls.items():\n",
    "    display_images(urls, word)"
   ]
  }
 ],
 "metadata": {
  "kernelspec": {
   "display_name": "Python 3",
   "language": "python",
   "name": "python3"
  },
  "language_info": {
   "codemirror_mode": {
    "name": "ipython",
    "version": 3
   },
   "file_extension": ".py",
   "mimetype": "text/x-python",
   "name": "python",
   "nbconvert_exporter": "python",
   "pygments_lexer": "ipython3",
   "version": "3.10.14"
  }
 },
 "nbformat": 4,
 "nbformat_minor": 2
}
